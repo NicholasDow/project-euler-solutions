{
 "cells": [
  {
   "cell_type": "code",
   "execution_count": 20,
   "metadata": {},
   "outputs": [],
   "source": [
    "def sieve(n):\n",
    "    prime = [True] * n\n",
    "    for i in range(2,int(n**.5) + 1):\n",
    "        if prime:\n",
    "            prime[2*i:n:i] = [False] * len(list(range(2*i, n, i)))\n",
    "    return [i for i in range(n) if (prime[i] and i > 1)]"
   ]
  },
  {
   "cell_type": "code",
   "execution_count": 22,
   "metadata": {},
   "outputs": [
    {
     "data": {
      "text/plain": [
       "25"
      ]
     },
     "execution_count": 22,
     "metadata": {},
     "output_type": "execute_result"
    }
   ],
   "source": [
    "len(sieve(100))"
   ]
  },
  {
   "cell_type": "code",
   "execution_count": 27,
   "metadata": {},
   "outputs": [],
   "source": [
    "primes = set([str(x) for x in sieve(1_000_000)])"
   ]
  },
  {
   "cell_type": "code",
   "execution_count": 49,
   "metadata": {},
   "outputs": [
    {
     "name": "stdout",
     "output_type": "stream",
     "text": [
      "55\n"
     ]
    }
   ],
   "source": [
    "import math\n",
    "def rot_prime(i,seen):\n",
    "    rot_primes = set()\n",
    "    for j in range(len(str(i))):\n",
    "        val = str(i)\n",
    "        rot = val[j:] + val[:j]\n",
    "        if rot not in primes or rot in seen:\n",
    "            # warning against python didn't catch this type thing going on here\n",
    "            return False, set()\n",
    "        rot_primes.add(rot)\n",
    "    return True, rot_primes\n",
    "seen = set()\n",
    "count = 0\n",
    "for i in range(1_000_000):\n",
    "    valid, add_seen = rot_prime(i, seen)\n",
    "    if valid:\n",
    "        count += 1\n",
    "        seen.union(add_seen)\n",
    "print(count) "
   ]
  },
  {
   "cell_type": "code",
   "execution_count": 46,
   "metadata": {},
   "outputs": [
    {
     "data": {
      "text/plain": [
       "False"
      ]
     },
     "execution_count": 46,
     "metadata": {},
     "output_type": "execute_result"
    }
   ],
   "source": [
    "rot_prime(198, set())"
   ]
  }
 ],
 "metadata": {
  "kernelspec": {
   "display_name": "Python 3",
   "language": "python",
   "name": "python3"
  },
  "language_info": {
   "codemirror_mode": {
    "name": "ipython",
    "version": 3
   },
   "file_extension": ".py",
   "mimetype": "text/x-python",
   "name": "python",
   "nbconvert_exporter": "python",
   "pygments_lexer": "ipython3",
   "version": "3.10.11"
  }
 },
 "nbformat": 4,
 "nbformat_minor": 2
}
