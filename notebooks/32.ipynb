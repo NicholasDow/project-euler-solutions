{
 "cells": [
  {
   "cell_type": "code",
   "execution_count": 73,
   "metadata": {},
   "outputs": [],
   "source": [
    "# this is a guess. I think that this is as big as any one number could get \n",
    "#  \n",
    "lim = 10**3"
   ]
  },
  {
   "cell_type": "code",
   "execution_count": 74,
   "metadata": {},
   "outputs": [
    {
     "data": {
      "text/plain": [
       "1000"
      ]
     },
     "execution_count": 74,
     "metadata": {},
     "output_type": "execute_result"
    }
   ],
   "source": [
    "lim"
   ]
  },
  {
   "cell_type": "code",
   "execution_count": 84,
   "metadata": {},
   "outputs": [
    {
     "data": {
      "text/plain": [
       "{'1', '2', '3', '4', '5', '6', '7', '8', '9'}"
      ]
     },
     "execution_count": 84,
     "metadata": {},
     "output_type": "execute_result"
    }
   ],
   "source": [
    "all_nums = set([str(x) for x in range(1,10)])\n",
    "all_nums"
   ]
  },
  {
   "cell_type": "code",
   "execution_count": 92,
   "metadata": {},
   "outputs": [
    {
     "name": "stdout",
     "output_type": "stream",
     "text": [
      "4 1738 6952\n",
      "4 1963 7852\n",
      "12 483 5796\n",
      "18 297 5346\n",
      "28 157 4396\n",
      "39 186 7254\n",
      "48 159 7632\n"
     ]
    }
   ],
   "source": [
    "seen = set()\n",
    "for i in range(lim/10):\n",
    "    for j in range(lim*10):\n",
    "        iset = set(str(i))\n",
    "        jset = set(str(j))\n",
    "        p= i*j\n",
    "        pset = set(str(p))\n",
    "        if len(iset) != len(str(i)) or len(jset) != len(str(j)) or len(str(p)) != len(pset):\n",
    "            continue\n",
    "        if iset.union(jset).union(pset) != all_nums or len(iset) + len(jset) + len(pset) != 9:\n",
    "            continue\n",
    "        if p not in seen:\n",
    "            print(i,j,p)\n",
    "            seen.add(p)\n",
    "        # combo = iset.union(jset)\n",
    "        # if combo.issubset(all_nums) and len(iset.intersection(jset)) == 0:\n",
    "        #     if len(pset)!=len(str(p)):\n",
    "        #         continue\n",
    "        #     if pset.issubset(all_nums) and len(combo.intersection(pset)) == 0:\n"
   ]
  },
  {
   "cell_type": "code",
   "execution_count": 93,
   "metadata": {},
   "outputs": [
    {
     "data": {
      "text/plain": [
       "45228"
      ]
     },
     "execution_count": 93,
     "metadata": {},
     "output_type": "execute_result"
    }
   ],
   "source": [
    "sum(seen)"
   ]
  },
  {
   "cell_type": "code",
   "execution_count": null,
   "metadata": {},
   "outputs": [],
   "source": []
  }
 ],
 "metadata": {
  "kernelspec": {
   "display_name": "Python 3",
   "language": "python",
   "name": "python3"
  },
  "language_info": {
   "codemirror_mode": {
    "name": "ipython",
    "version": 3
   },
   "file_extension": ".py",
   "mimetype": "text/x-python",
   "name": "python",
   "nbconvert_exporter": "python",
   "pygments_lexer": "ipython3",
   "version": "3.10.11"
  }
 },
 "nbformat": 4,
 "nbformat_minor": 2
}
