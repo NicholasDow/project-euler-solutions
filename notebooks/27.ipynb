{
 "cells": [
  {
   "cell_type": "code",
   "execution_count": 1,
   "metadata": {},
   "outputs": [],
   "source": [
    "n = 1000\n",
    "m = 1000"
   ]
  },
  {
   "cell_type": "code",
   "execution_count": 2,
   "metadata": {},
   "outputs": [],
   "source": [
    "def sieve_of_eratosthenese(n):\n",
    "    if n < 2:\n",
    "        return []\n",
    "    \n",
    "    sieve = [True] * (n+1)\n",
    "    sieve[0] = sieve[1] = False\n",
    "\n",
    "    for i in range(2, int(n**0.5)+1):\n",
    "        if sieve[i]:\n",
    "            sieve[i*i:n+1:i] = [False] * len(sieve[i*i:n+1:i])\n",
    "    return [i for i in range(2,n+1) if sieve[i]]"
   ]
  },
  {
   "cell_type": "code",
   "execution_count": 11,
   "metadata": {},
   "outputs": [
    {
     "name": "stdout",
     "output_type": "stream",
     "text": [
      "Initial list: [2, 3, 5, 7, 11]\n",
      "Next prime added: 13\n",
      "Updated list: [2, 3, 5, 7, 11, 13]\n",
      "Next prime: 17\n",
      "Next prime: 19\n",
      "Next prime: 23\n",
      "Final list: [2, 3, 5, 7, 11, 13, 17, 19, 23]\n",
      "15th prime: 47\n",
      "Final list length: 15\n"
     ]
    }
   ],
   "source": [
    "from typing import List\n",
    "\n",
    "def lazy_sieve():\n",
    "    def sieve():\n",
    "        D = {}\n",
    "        q = 2\n",
    "        while True:\n",
    "            if q not in D:\n",
    "                yield q\n",
    "                D[q * q] = [q]\n",
    "            else:\n",
    "                for p in D[q]:\n",
    "                    D.setdefault(p + q, []).append(p)\n",
    "                del D[q]\n",
    "            q += 1\n",
    "\n",
    "    for prime in sieve():\n",
    "        yield prime\n",
    "\n",
    "class ExtendablePrimeList:\n",
    "    def __init__(self, initial_count: int = 10):\n",
    "        self.prime_gen = lazy_sieve()\n",
    "        self.primes: List[int] = []\n",
    "        self.extend(initial_count)\n",
    "\n",
    "    def extend(self, additional_count: int):\n",
    "        new_primes = [next(self.prime_gen) for _ in range(additional_count)]\n",
    "        self.primes.extend(new_primes)\n",
    "\n",
    "    def next_prime(self) -> int:\n",
    "        \"\"\"Extend the list by one and return the new prime.\"\"\"\n",
    "        next_prime = next(self.prime_gen)\n",
    "        self.primes.append(next_prime)\n",
    "        return next_prime\n",
    "\n",
    "    def __getitem__(self, index: int) -> int:\n",
    "        while index >= len(self.primes):\n",
    "            self.next_prime()\n",
    "        return self.primes[index]\n",
    "\n",
    "    def __len__(self) -> int:\n",
    "        return len(self.primes)\n",
    "\n",
    "    def __str__(self) -> str:\n",
    "        return str(self.primes)\n",
    "\n",
    "# Example usage\n",
    "prime_list = ExtendablePrimeList(5)  # Start with first 5 primes\n",
    "print(f\"Initial list: {prime_list}\")\n",
    "\n",
    "# Extend by one prime and get the new prime\n",
    "new_prime = prime_list.next_prime()\n",
    "print(f\"Next prime added: {new_prime}\")\n",
    "print(f\"Updated list: {prime_list}\")\n",
    "\n",
    "# Extend a few more times\n",
    "for _ in range(3):\n",
    "    print(f\"Next prime: {prime_list.next_prime()}\")\n",
    "\n",
    "print(f\"Final list: {prime_list}\")\n",
    "\n",
    "# We can still use indexing, which will extend the list as needed\n",
    "print(f\"15th prime: {prime_list[14]}\")\n",
    "print(f\"Final list length: {len(prime_list)}\")"
   ]
  },
  {
   "cell_type": "code",
   "execution_count": 22,
   "metadata": {},
   "outputs": [],
   "source": [
    "def create_function(a,b):\n",
    "    return lambda x: a*x + b + x**2"
   ]
  },
  {
   "cell_type": "code",
   "execution_count": 29,
   "metadata": {},
   "outputs": [],
   "source": [
    "prime_list = set(sieve_of_eratosthenese(1000000))"
   ]
  },
  {
   "cell_type": "code",
   "execution_count": 34,
   "metadata": {},
   "outputs": [],
   "source": [
    "max_count = 0\n",
    "a = 0\n",
    "b = 0\n",
    "for i in range(-1000,1001):\n",
    "    for j in range(-1000, 1001):\n",
    "        f = create_function(i,j)\n",
    "        n = 0\n",
    "        seen = set()\n",
    "        while f(n) in prime_list:\n",
    "            seen.add(f(n))\n",
    "            n+=1\n",
    "        if n > max_count:\n",
    "            max_count = n\n",
    "            a = i\n",
    "            b = j\n",
    "\n",
    "            \n"
   ]
  },
  {
   "cell_type": "code",
   "execution_count": 38,
   "metadata": {},
   "outputs": [
    {
     "data": {
      "text/plain": [
       "71"
      ]
     },
     "execution_count": 38,
     "metadata": {},
     "output_type": "execute_result"
    }
   ],
   "source": [
    "max_count"
   ]
  },
  {
   "cell_type": "code",
   "execution_count": 13,
   "metadata": {},
   "outputs": [
    {
     "ename": "KeyboardInterrupt",
     "evalue": "",
     "output_type": "error",
     "traceback": [
      "\u001b[1;31m---------------------------------------------------------------------------\u001b[0m",
      "\u001b[1;31mKeyboardInterrupt\u001b[0m                         Traceback (most recent call last)",
      "Cell \u001b[1;32mIn[13], line 10\u001b[0m\n\u001b[0;32m      8\u001b[0m         max_index \u001b[38;5;241m=\u001b[39m index\u001b[38;5;241m+\u001b[39m\u001b[38;5;241m1\u001b[39m\n\u001b[0;32m      9\u001b[0m         \u001b[38;5;28;01mbreak\u001b[39;00m\n\u001b[1;32m---> 10\u001b[0m \u001b[38;5;28;01mwhile\u001b[39;00m \u001b[43mf\u001b[49m\u001b[43m(\u001b[49m\u001b[43mmax_index\u001b[49m\u001b[43m)\u001b[49m \u001b[38;5;241m==\u001b[39m pl\u001b[38;5;241m.\u001b[39mnext_prime():\n\u001b[0;32m     11\u001b[0m     max_index \u001b[38;5;241m+\u001b[39m\u001b[38;5;241m=\u001b[39m\u001b[38;5;241m1\u001b[39m\n\u001b[0;32m     12\u001b[0m     a \u001b[38;5;241m=\u001b[39m i\n",
      "Cell \u001b[1;32mIn[12], line 2\u001b[0m, in \u001b[0;36mcreate_function.<locals>.<lambda>\u001b[1;34m(x)\u001b[0m\n\u001b[0;32m      1\u001b[0m \u001b[38;5;28;01mdef\u001b[39;00m \u001b[38;5;21mcreate_function\u001b[39m(a,b):\n\u001b[1;32m----> 2\u001b[0m     \u001b[38;5;28;01mreturn\u001b[39;00m \u001b[38;5;28;01mlambda\u001b[39;00m x: a\u001b[38;5;241m*\u001b[39mx \u001b[38;5;241m+\u001b[39m b\u001b[38;5;241m*\u001b[39mx \u001b[38;5;241m+\u001b[39m x\u001b[38;5;241m*\u001b[39m\u001b[38;5;241m*\u001b[39m\u001b[38;5;241m2\u001b[39m\n",
      "\u001b[1;31mKeyboardInterrupt\u001b[0m: "
     ]
    }
   ],
   "source": [
    "# Tried it here with extendable prime list\n",
    "pl = ExtendablePrimeList()\n",
    "for i in range(-1000, 1001):\n",
    "    for j in range(-1000, 1001):\n",
    "        f = create_function(i,j)\n",
    "        max_index = 0\n",
    "        for index,prime in enumerate(pl.primes):\n",
    "            if f(index) != prime:\n",
    "                max_index = index+1\n",
    "                break\n",
    "        while f(max_index) == pl.next_prime():\n",
    "            max_index +=1\n",
    "            a = i\n",
    "            b= j\n",
    "         \n",
    "\n",
    "\n",
    "        "
   ]
  },
  {
   "cell_type": "markdown",
   "metadata": {},
   "source": []
  }
 ],
 "metadata": {
  "kernelspec": {
   "display_name": "Python 3",
   "language": "python",
   "name": "python3"
  },
  "language_info": {
   "codemirror_mode": {
    "name": "ipython",
    "version": 3
   },
   "file_extension": ".py",
   "mimetype": "text/x-python",
   "name": "python",
   "nbconvert_exporter": "python",
   "pygments_lexer": "ipython3",
   "version": "3.10.11"
  }
 },
 "nbformat": 4,
 "nbformat_minor": 2
}
