{
 "cells": [
  {
   "cell_type": "code",
   "execution_count": 8,
   "metadata": {},
   "outputs": [
    {
     "name": "stdout",
     "output_type": "stream",
     "text": [
      "6\n",
      "924\n"
     ]
    }
   ],
   "source": [
    "lim = 200\n",
    "\n",
    "def valid(i,j,k):\n",
    "    return k**2 + j**2 == i**2\n",
    "bestSolution = 0\n",
    "bestSolutionIndex = 0\n",
    "for i in range(104,lim):\n",
    "    solution = 0\n",
    "    for j in range(1,i):\n",
    "        for k in range(1,j):\n",
    "            if valid(i,j,i-(j+k)):\n",
    "                solution+=1\n",
    "    # bestSolution = max(bestSolution, solution)\n",
    "    if bestSolution < solution:\n",
    "        bestSolution = solution\n",
    "        bestSolutionIndex = j\n",
    "\n",
    "print(bestSolution)\n",
    "print(bestSolutionIndex)\n"
   ]
  },
  {
   "cell_type": "code",
   "execution_count": 10,
   "metadata": {},
   "outputs": [],
   "source": [
    "# above is my dumb slow solution\n",
    "\n",
    "h = dict()\n",
    "for a in range(lim//2):\n",
    "    for b in range(lim//2):\n",
    "        c = (a**2 + b**2)**(0.5)\n",
    "        if c % 1 == 0 and c + b + a <= lim:\n",
    "            h[a+b+c] = h.get(a+b+c, 0) + 1\n",
    "\n",
    "max = 0\n",
    "maxp = None"
   ]
  },
  {
   "cell_type": "code",
   "execution_count": 15,
   "metadata": {},
   "outputs": [],
   "source": [
    "for key,value in h.items():\n",
    "    if max < h[key]:\n",
    "        maxp = key\n",
    "        max = h[key]"
   ]
  },
  {
   "cell_type": "code",
   "execution_count": 16,
   "metadata": {},
   "outputs": [
    {
     "data": {
      "text/plain": [
       "18"
      ]
     },
     "execution_count": 16,
     "metadata": {},
     "output_type": "execute_result"
    }
   ],
   "source": [
    "max"
   ]
  },
  {
   "cell_type": "code",
   "execution_count": 17,
   "metadata": {},
   "outputs": [
    {
     "data": {
      "text/plain": [
       "840.0"
      ]
     },
     "execution_count": 17,
     "metadata": {},
     "output_type": "execute_result"
    }
   ],
   "source": [
    "maxp"
   ]
  },
  {
   "cell_type": "code",
   "execution_count": null,
   "metadata": {},
   "outputs": [],
   "source": []
  }
 ],
 "metadata": {
  "kernelspec": {
   "display_name": "Python 3",
   "language": "python",
   "name": "python3"
  },
  "language_info": {
   "codemirror_mode": {
    "name": "ipython",
    "version": 3
   },
   "file_extension": ".py",
   "mimetype": "text/x-python",
   "name": "python",
   "nbconvert_exporter": "python",
   "pygments_lexer": "ipython3",
   "version": "3.10.11"
  }
 },
 "nbformat": 4,
 "nbformat_minor": 2
}
