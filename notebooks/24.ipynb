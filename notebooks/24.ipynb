{
 "cells": [
  {
   "cell_type": "code",
   "execution_count": 7,
   "metadata": {},
   "outputs": [],
   "source": [
    "# lazy solution\n",
    "\n",
    "num = 10\n",
    "chosen = [False for _ in range(10)]\n",
    "permutation = []\n",
    "stop = 1_000_000\n",
    "count = 0\n",
    "def search():\n",
    "    global count\n",
    "    if (len(permutation) == 10):\n",
    "        count+= 1\n",
    "        if count == stop:\n",
    "            print(''.join(map(str, permutation)))\n",
    "    else:\n",
    "        for i in range(10):\n",
    "            if chosen[i]:\n",
    "                continue\n",
    "            chosen[i] = True\n",
    "            permutation.append(i)\n",
    "            search()\n",
    "            chosen[i] = False\n",
    "            permutation.pop()"
   ]
  },
  {
   "cell_type": "code",
   "execution_count": 8,
   "metadata": {},
   "outputs": [
    {
     "name": "stdout",
     "output_type": "stream",
     "text": [
      "2783915460\n"
     ]
    }
   ],
   "source": [
    "search()"
   ]
  },
  {
   "cell_type": "code",
   "execution_count": null,
   "metadata": {},
   "outputs": [],
   "source": []
  }
 ],
 "metadata": {
  "kernelspec": {
   "display_name": "Python 3",
   "language": "python",
   "name": "python3"
  },
  "language_info": {
   "codemirror_mode": {
    "name": "ipython",
    "version": 3
   },
   "file_extension": ".py",
   "mimetype": "text/x-python",
   "name": "python",
   "nbconvert_exporter": "python",
   "pygments_lexer": "ipython3",
   "version": "3.10.11"
  }
 },
 "nbformat": 4,
 "nbformat_minor": 2
}
