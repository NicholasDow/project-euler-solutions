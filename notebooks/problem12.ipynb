{
 "cells": [
  {
   "cell_type": "code",
   "execution_count": 9,
   "metadata": {},
   "outputs": [],
   "source": [
    "def series(n):\n",
    "    return int(((n)*(n+1))/2)"
   ]
  },
  {
   "cell_type": "code",
   "execution_count": 62,
   "metadata": {},
   "outputs": [],
   "source": [
    "def factors(n):\n",
    "    count = 0\n",
    "    for i in range(1, int(n**0.5) + 1):\n",
    "        if n % i == 0:\n",
    "            count += 2 if i != n // i else 1\n",
    "    return count"
   ]
  },
  {
   "cell_type": "code",
   "execution_count": 63,
   "metadata": {},
   "outputs": [
    {
     "data": {
      "text/plain": [
       "4"
      ]
     },
     "execution_count": 63,
     "metadata": {},
     "output_type": "execute_result"
    }
   ],
   "source": [
    "factors(6)"
   ]
  },
  {
   "cell_type": "code",
   "execution_count": null,
   "metadata": {},
   "outputs": [],
   "source": [
    "def primeFactorsFull(n):\n",
    "    for i in range(1,n+1):"
   ]
  },
  {
   "cell_type": "code",
   "execution_count": 58,
   "metadata": {},
   "outputs": [
    {
     "data": {
      "text/plain": [
       "32"
      ]
     },
     "execution_count": 58,
     "metadata": {},
     "output_type": "execute_result"
    }
   ],
   "source": [
    "factors(series(500))"
   ]
  },
  {
   "cell_type": "code",
   "execution_count": 18,
   "metadata": {},
   "outputs": [],
   "source": [
    "initial_guess = 500**2"
   ]
  },
  {
   "cell_type": "code",
   "execution_count": 24,
   "metadata": {},
   "outputs": [
    {
     "data": {
      "text/plain": [
       "96"
      ]
     },
     "execution_count": 24,
     "metadata": {},
     "output_type": "execute_result"
    }
   ],
   "source": [
    "len(primeFactors(series(500)))"
   ]
  },
  {
   "cell_type": "code",
   "execution_count": 64,
   "metadata": {},
   "outputs": [
    {
     "name": "stdout",
     "output_type": "stream",
     "text": [
      "200 48\n",
      "300 90\n",
      "400 112\n",
      "500 112\n",
      "600 128\n",
      "700 128\n",
      "800 128\n",
      "900 128\n",
      "1000 144\n",
      "1100 144\n",
      "1200 144\n",
      "1300 162\n",
      "1400 162\n",
      "1500 162\n",
      "1600 162\n",
      "1700 168\n",
      "1800 192\n",
      "1900 192\n",
      "2000 192\n",
      "2100 320\n",
      "2200 320\n",
      "2300 320\n",
      "2400 320\n",
      "2500 320\n",
      "2600 320\n",
      "2700 320\n",
      "2800 320\n",
      "2900 320\n",
      "3000 320\n",
      "3100 320\n",
      "3200 320\n",
      "3300 320\n",
      "3400 320\n",
      "3500 320\n",
      "3600 320\n",
      "3700 320\n",
      "3800 320\n",
      "3900 320\n",
      "4000 320\n",
      "4100 320\n",
      "4200 320\n",
      "4300 320\n",
      "4400 320\n",
      "4500 320\n",
      "4600 320\n",
      "4700 320\n",
      "4800 320\n",
      "4900 320\n",
      "5000 320\n",
      "5100 320\n",
      "5200 320\n",
      "5300 320\n",
      "5400 320\n",
      "5500 320\n",
      "5600 320\n",
      "5700 320\n",
      "5800 320\n",
      "5900 320\n",
      "6000 480\n",
      "6100 480\n",
      "6200 480\n",
      "6300 480\n",
      "6400 480\n",
      "6500 480\n",
      "6600 480\n",
      "6700 480\n",
      "6800 480\n",
      "6900 480\n",
      "7000 480\n",
      "7100 480\n",
      "7200 480\n",
      "7300 480\n",
      "7400 480\n",
      "7500 480\n",
      "7600 480\n",
      "7700 480\n",
      "7800 480\n",
      "7900 480\n",
      "8000 480\n",
      "8100 480\n",
      "8200 480\n",
      "8300 480\n",
      "8400 480\n",
      "8500 480\n",
      "8600 480\n",
      "8700 480\n",
      "8800 480\n",
      "8900 480\n",
      "9000 480\n",
      "9100 480\n",
      "9200 480\n",
      "9300 480\n",
      "9400 480\n",
      "9500 480\n",
      "9600 480\n",
      "9700 480\n",
      "9800 480\n",
      "9900 480\n",
      "10000 480\n",
      "10100 480\n",
      "10200 480\n",
      "10300 480\n",
      "10400 480\n",
      "10500 480\n",
      "10600 480\n",
      "10700 480\n",
      "10800 480\n",
      "10900 480\n",
      "11000 480\n",
      "11100 480\n",
      "11200 480\n",
      "11300 480\n",
      "11400 480\n",
      "11500 480\n",
      "11600 480\n",
      "11700 480\n",
      "11800 480\n",
      "11900 480\n",
      "12000 480\n",
      "12100 480\n",
      "12200 480\n",
      "12300 480\n"
     ]
    }
   ],
   "source": [
    "longest = 0\n",
    "i = 100\n",
    "while longest < 500:\n",
    "    i+=1\n",
    "    if i % 100 == 0:\n",
    "        print(i, longest)\n",
    "    longest = max(factors(series(i)), longest)"
   ]
  },
  {
   "cell_type": "code",
   "execution_count": 69,
   "metadata": {},
   "outputs": [],
   "source": [
    "def primeSet(n):\n",
    "    items = set()\n",
    "    for i in range(1,n+1):\n",
    "        if n % i == 0:\n",
    "            items.add(i)\n",
    "    return items"
   ]
  },
  {
   "cell_type": "code",
   "execution_count": 77,
   "metadata": {},
   "outputs": [
    {
     "data": {
      "text/plain": [
       "76576500"
      ]
     },
     "execution_count": 77,
     "metadata": {},
     "output_type": "execute_result"
    }
   ],
   "source": [
    "series(i)"
   ]
  },
  {
   "cell_type": "code",
   "execution_count": 76,
   "metadata": {},
   "outputs": [
    {
     "data": {
      "text/plain": [
       "24"
      ]
     },
     "execution_count": 76,
     "metadata": {},
     "output_type": "execute_result"
    }
   ],
   "source": [
    "factors(i)"
   ]
  },
  {
   "cell_type": "code",
   "execution_count": null,
   "metadata": {},
   "outputs": [],
   "source": []
  }
 ],
 "metadata": {
  "kernelspec": {
   "display_name": "Python 3",
   "language": "python",
   "name": "python3"
  },
  "language_info": {
   "codemirror_mode": {
    "name": "ipython",
    "version": 3
   },
   "file_extension": ".py",
   "mimetype": "text/x-python",
   "name": "python",
   "nbconvert_exporter": "python",
   "pygments_lexer": "ipython3",
   "version": "3.10.11"
  }
 },
 "nbformat": 4,
 "nbformat_minor": 2
}
