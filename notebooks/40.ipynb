{
 "cells": [
  {
   "cell_type": "code",
   "execution_count": 37,
   "metadata": {},
   "outputs": [
    {
     "name": "stdout",
     "output_type": "stream",
     "text": [
      "1\n",
      "1\n",
      "5\n",
      "3\n",
      "7\n",
      "2\n",
      "1\n"
     ]
    },
    {
     "data": {
      "text/plain": [
       "[None, None, None, None, None, None, None]"
      ]
     },
     "execution_count": 37,
     "metadata": {},
     "output_type": "execute_result"
    }
   ],
   "source": [
    "l = 10**6\n",
    "s = ''\n",
    "for i in range(1,l):\n",
    "    s += str(i)\n",
    "\n",
    "li = [0,9,99,999,9999,99999,999999]\n",
    "[print(s[i]) for i in li]"
   ]
  },
  {
   "cell_type": "code",
   "execution_count": 50,
   "metadata": {},
   "outputs": [
    {
     "name": "stdout",
     "output_type": "stream",
     "text": [
      "1 0\n",
      "0 1 1 1 1\n",
      "10 9\n",
      "9 2 10 1 10\n",
      "100 99\n",
      "99 2 100 5 55\n",
      "1000 999\n",
      "999 3 1000 3 370\n",
      "10000 9997\n",
      "9997 4 10000 7 2777\n",
      "100000 99999\n",
      "99999 5 100000 2 22222\n",
      "1000000 999999\n",
      "999999 6 1000000 1 185185\n",
      "210\n"
     ]
    }
   ],
   "source": [
    "import math\n",
    "lim = 7\n",
    "count = 0\n",
    "count2 = 1\n",
    "ret = 1\n",
    "for i in range(1,10**6):\n",
    "    len_n = int(math.log10(i))+1\n",
    "    if count + len_n >= count2:\n",
    "        print(count2, count)\n",
    "        v = int(str(i)[count2 - count -1 ])\n",
    "        print(count,len_n, count2,v,i)\n",
    "        ret *= v\n",
    "        count2 *= 10\n",
    "    count += len_n\n",
    "print(ret)"
   ]
  },
  {
   "cell_type": "code",
   "execution_count": 35,
   "metadata": {},
   "outputs": [
    {
     "data": {
      "text/plain": [
       "0"
      ]
     },
     "execution_count": 35,
     "metadata": {},
     "output_type": "execute_result"
    }
   ],
   "source": [
    "int(math.log10()"
   ]
  },
  {
   "cell_type": "code",
   "execution_count": null,
   "metadata": {},
   "outputs": [],
   "source": []
  }
 ],
 "metadata": {
  "kernelspec": {
   "display_name": "Python 3",
   "language": "python",
   "name": "python3"
  },
  "language_info": {
   "codemirror_mode": {
    "name": "ipython",
    "version": 3
   },
   "file_extension": ".py",
   "mimetype": "text/x-python",
   "name": "python",
   "nbconvert_exporter": "python",
   "pygments_lexer": "ipython3",
   "version": "3.10.11"
  }
 },
 "nbformat": 4,
 "nbformat_minor": 2
}
