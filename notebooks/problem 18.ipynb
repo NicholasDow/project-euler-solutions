{
 "cells": [
  {
   "cell_type": "code",
   "execution_count": 59,
   "metadata": {},
   "outputs": [],
   "source": [
    "input = \"\"\"\n",
    "75\n",
    "95 64\n",
    "17 47 82\n",
    "18 35 87 10\n",
    "20 04 82 47 65\n",
    "19 01 23 75 03 34\n",
    "88 02 77 73 07 63 67\n",
    "99 65 04 28 06 16 70 92\n",
    "41 41 26 56 83 40 80 70 33\n",
    "41 48 72 33 47 32 37 16 94 29\n",
    "53 71 44 65 25 43 91 52 97 51 14\n",
    "70 11 33 28 77 73 17 78 39 68 17 57\n",
    "91 71 52 38 17 14 91 43 58 50 27 29 48\n",
    "63 66 04 68 89 53 67 30 73 16 69 87 40 31\n",
    "04 62 98 27 23 09 70 98 73 93 38 53 60 04 23\n",
    "\"\"\"\n",
    "\n",
    "# input = \"\"\"\n",
    "# 3\n",
    "# 7 4\n",
    "# 2 4 6\n",
    "# 8 5 9 3\n",
    "# \"\"\""
   ]
  },
  {
   "cell_type": "code",
   "execution_count": 60,
   "metadata": {},
   "outputs": [],
   "source": [
    "data = [a.split(' ') for a in input.split('\\n')]"
   ]
  },
  {
   "cell_type": "code",
   "execution_count": 61,
   "metadata": {},
   "outputs": [],
   "source": [
    "data = data[1:-1]\n",
    "data = [[int(col) for col in row]for row in data]"
   ]
  },
  {
   "cell_type": "code",
   "execution_count": 62,
   "metadata": {},
   "outputs": [
    {
     "data": {
      "text/plain": [
       "15"
      ]
     },
     "execution_count": 62,
     "metadata": {},
     "output_type": "execute_result"
    }
   ],
   "source": [
    "len(data)"
   ]
  },
  {
   "cell_type": "code",
   "execution_count": 63,
   "metadata": {},
   "outputs": [],
   "source": [
    "top = data[0]\n",
    "bottom = []\n",
    "\n",
    "for i in range(len(data)-1, 0, -1):\n",
    "    for j in range(len(data[i])-1):\n",
    "        data[i-1][j] = data[i-1][j] + max(data[i][j:j+2])"
   ]
  },
  {
   "cell_type": "code",
   "execution_count": 64,
   "metadata": {},
   "outputs": [
    {
     "data": {
      "text/plain": [
       "[900]"
      ]
     },
     "execution_count": 64,
     "metadata": {},
     "output_type": "execute_result"
    }
   ],
   "source": [
    "data[2][1:2]"
   ]
  },
  {
   "cell_type": "code",
   "execution_count": 65,
   "metadata": {},
   "outputs": [
    {
     "data": {
      "text/plain": [
       "[[1074],\n",
       " [995, 999],\n",
       " [818, 900, 935],\n",
       " [704, 801, 853, 792],\n",
       " [686, 640, 766, 731, 782],\n",
       " [666, 614, 636, 684, 660, 717],\n",
       " [647, 501, 613, 609, 533, 657, 683],\n",
       " [559, 499, 479, 536, 514, 526, 594, 616],\n",
       " [460, 434, 419, 475, 508, 470, 510, 524, 487],\n",
       " [419, 365, 393, 387, 419, 425, 430, 376, 454, 322],\n",
       " [378, 317, 231, 321, 354, 372, 393, 354, 360, 293, 247],\n",
       " [325, 246, 187, 178, 256, 329, 273, 302, 263, 242, 193, 233],\n",
       " [255, 235, 154, 150, 140, 179, 256, 209, 224, 172, 174, 176, 148],\n",
       " [125, 164, 102, 95, 112, 123, 165, 128, 166, 109, 122, 147, 100, 54],\n",
       " [4, 62, 98, 27, 23, 9, 70, 98, 73, 93, 38, 53, 60, 4, 23]]"
      ]
     },
     "execution_count": 65,
     "metadata": {},
     "output_type": "execute_result"
    }
   ],
   "source": [
    "data"
   ]
  },
  {
   "cell_type": "code",
   "execution_count": null,
   "metadata": {},
   "outputs": [],
   "source": []
  }
 ],
 "metadata": {
  "kernelspec": {
   "display_name": "Python 3",
   "language": "python",
   "name": "python3"
  },
  "language_info": {
   "codemirror_mode": {
    "name": "ipython",
    "version": 3
   },
   "file_extension": ".py",
   "mimetype": "text/x-python",
   "name": "python",
   "nbconvert_exporter": "python",
   "pygments_lexer": "ipython3",
   "version": "3.10.11"
  }
 },
 "nbformat": 4,
 "nbformat_minor": 2
}
