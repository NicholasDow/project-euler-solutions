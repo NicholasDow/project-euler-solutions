{
 "cells": [
  {
   "cell_type": "code",
   "execution_count": 13,
   "metadata": {},
   "outputs": [],
   "source": [
    "nums = set([str(i) for i in range(0,10)])\n",
    "def isPandigital(n):\n",
    "    # if n in primes:\n",
    "    strN = str(n)\n",
    "    if len(strN) == len(set(strN)) == 10:\n",
    "        if nums == set(strN):\n",
    "            return True\n",
    "    return False"
   ]
  },
  {
   "cell_type": "code",
   "execution_count": 14,
   "metadata": {},
   "outputs": [],
   "source": [
    "x =1_406_357_289"
   ]
  },
  {
   "cell_type": "code",
   "execution_count": 15,
   "metadata": {},
   "outputs": [
    {
     "data": {
      "text/plain": [
       "True"
      ]
     },
     "execution_count": 15,
     "metadata": {},
     "output_type": "execute_result"
    }
   ],
   "source": [
    "isPandigital(x)"
   ]
  },
  {
   "cell_type": "code",
   "execution_count": 19,
   "metadata": {},
   "outputs": [],
   "source": [
    "lim = 10**9 - 1"
   ]
  },
  {
   "cell_type": "code",
   "execution_count": 51,
   "metadata": {},
   "outputs": [],
   "source": [
    "primes = [17,13,11,7,5,3,2]\n",
    "def divisiblity(n):\n",
    "    start = 1000\n",
    "    end = 1\n",
    "    for i in range(0,len(primes)):\n",
    "        num = n % start\n",
    "        num = int(num / end)\n",
    "        print(num)\n",
    "        start *= 10\n",
    "        end *= 10\n",
    "        print(primes[i])\n",
    "        if num % primes[i] != 0:\n",
    "            return False\n",
    "    return True\n"
   ]
  },
  {
   "cell_type": "code",
   "execution_count": 35,
   "metadata": {},
   "outputs": [
    {
     "data": {
      "text/plain": [
       "True"
      ]
     },
     "execution_count": 35,
     "metadata": {},
     "output_type": "execute_result"
    }
   ],
   "source": [
    "divisiblity(x)"
   ]
  },
  {
   "cell_type": "code",
   "execution_count": 49,
   "metadata": {},
   "outputs": [],
   "source": [
    "tot = 0\n",
    "for i in range(10**9, 10**9+10**5):\n",
    "    if divisiblity(i) and isPandigital(i):\n",
    "        tot += i"
   ]
  },
  {
   "cell_type": "code",
   "execution_count": null,
   "metadata": {},
   "outputs": [],
   "source": []
  },
  {
   "cell_type": "markdown",
   "metadata": {},
   "source": [
    "# WE NEED A CHANGE OF APPROACH\n",
    "\n",
    "we are searching pandigitial wrong. it's really a set we need to search. permutations of a set"
   ]
  },
  {
   "cell_type": "code",
   "execution_count": 54,
   "metadata": {},
   "outputs": [],
   "source": [
    "permutation = []\n",
    "tot = 0\n",
    "chosen = [False] * 10\n",
    "def search():\n",
    "    global tot\n",
    "    if (len(permutation) == 10 and permutation[0] != '0'):\n",
    "        num = int(''.join(permutation))\n",
    "        if divisiblity(num):\n",
    "            tot += num\n",
    "    else:\n",
    "        for i in range(10):\n",
    "            if chosen[i]:\n",
    "                continue\n",
    "            else:\n",
    "                chosen[i] = True\n",
    "                permutation.append(str(i))\n",
    "                search()\n",
    "                chosen[i] = False\n",
    "                permutation.pop()\n"
   ]
  },
  {
   "cell_type": "code",
   "execution_count": 55,
   "metadata": {},
   "outputs": [],
   "source": [
    "search()"
   ]
  },
  {
   "cell_type": "code",
   "execution_count": 56,
   "metadata": {},
   "outputs": [
    {
     "data": {
      "text/plain": [
       "16695334890"
      ]
     },
     "execution_count": 56,
     "metadata": {},
     "output_type": "execute_result"
    }
   ],
   "source": [
    "tot"
   ]
  },
  {
   "cell_type": "code",
   "execution_count": null,
   "metadata": {},
   "outputs": [],
   "source": []
  }
 ],
 "metadata": {
  "kernelspec": {
   "display_name": "Python 3",
   "language": "python",
   "name": "python3"
  },
  "language_info": {
   "codemirror_mode": {
    "name": "ipython",
    "version": 3
   },
   "file_extension": ".py",
   "mimetype": "text/x-python",
   "name": "python",
   "nbconvert_exporter": "python",
   "pygments_lexer": "ipython3",
   "version": "3.10.11"
  }
 },
 "nbformat": 4,
 "nbformat_minor": 2
}
