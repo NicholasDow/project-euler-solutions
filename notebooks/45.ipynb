{
 "cells": [
  {
   "cell_type": "code",
   "execution_count": 11,
   "metadata": {},
   "outputs": [],
   "source": [
    "def T(n):\n",
    "    return (n*(n+1))/2\n",
    "\n",
    "def P(n):\n",
    "    return (n*(3*n - 1))/2\n",
    "\n",
    "def H(n):\n",
    "    return (n*(2*n-1))"
   ]
  },
  {
   "cell_type": "code",
   "execution_count": 20,
   "metadata": {},
   "outputs": [],
   "source": [
    "start1 = 285\n",
    "start2 = 165\n",
    "start3 = 143\n",
    "\n",
    "start1 += 1\n",
    "start2 += 2\n",
    "start3 += 3"
   ]
  },
  {
   "cell_type": "code",
   "execution_count": 22,
   "metadata": {},
   "outputs": [
    {
     "name": "stdout",
     "output_type": "stream",
     "text": [
      "55385 31977 27693 values 1533776805.0 1533776805.0 1533776805\n"
     ]
    }
   ],
   "source": [
    "while True:\n",
    "    if T(start1) == P(start2) == H(start3):\n",
    "        print(start1,start2, start3, \"values\", T(start1), P(start2), H(start3))\n",
    "        break\n",
    "    if T(start1) < P(start2):\n",
    "        start1 += 1\n",
    "    else:\n",
    "        if P(start2) < H(start3):\n",
    "            start2 += 1\n",
    "        else:\n",
    "            start3 += 1\n",
    "    \n",
    "\n",
    "    # if T(start1) == P(start2) or P(start2) == H(start3):\n",
    "    #     print(start1, start2, start3, \"value\", T(start1), P(start2), H(start3))\n",
    "    # if start1==10000:\n",
    "    #     break\n",
    "    "
   ]
  },
  {
   "cell_type": "code",
   "execution_count": null,
   "metadata": {},
   "outputs": [],
   "source": []
  },
  {
   "cell_type": "code",
   "execution_count": null,
   "metadata": {},
   "outputs": [],
   "source": []
  }
 ],
 "metadata": {
  "kernelspec": {
   "display_name": "Python 3",
   "language": "python",
   "name": "python3"
  },
  "language_info": {
   "codemirror_mode": {
    "name": "ipython",
    "version": 3
   },
   "file_extension": ".py",
   "mimetype": "text/x-python",
   "name": "python",
   "nbconvert_exporter": "python",
   "pygments_lexer": "ipython3",
   "version": "3.10.11"
  }
 },
 "nbformat": 4,
 "nbformat_minor": 2
}
