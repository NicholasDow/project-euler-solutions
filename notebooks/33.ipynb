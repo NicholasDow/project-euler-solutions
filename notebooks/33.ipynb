{
 "cells": [
  {
   "cell_type": "code",
   "execution_count": 19,
   "metadata": {},
   "outputs": [
    {
     "name": "stdout",
     "output_type": "stream",
     "text": [
      "16 64 0.25 0.25\n",
      "0.0\n",
      "19 95 0.2 0.2\n",
      "0.0\n",
      "26 65 0.4 0.4\n",
      "0.0\n",
      "49 98 0.5 0.5\n",
      "0.0\n"
     ]
    }
   ],
   "source": [
    "def ss(i)->set:\n",
    "    return set(str(i))\n",
    "for i in range(100):\n",
    "    for j in range(100):\n",
    "        if i % 10 == 0 or j % 10 == 0:\n",
    "            continue\n",
    "        if len(ss(i).intersection(ss(j))) == 1 and len(ss(i).union(ss(j))) == 3:\n",
    "            take_out = ss(i).intersection(ss(j))\n",
    "            val = int(list(ss(i) - take_out)[0])/int(list(ss(j)-take_out)[0])\n",
    "            if i/j < 1 and abs(val - i/j) < 0.0001:\n",
    "                print(i,j,val, i/j)\n",
    "                print(val - i/j)"
   ]
  },
  {
   "cell_type": "code",
   "execution_count": null,
   "metadata": {},
   "outputs": [],
   "source": [
    "(16 * 19 * 26 * 49) / (64 * 95 * 65 * 98)\n",
    "4 * 5 * 5 * 1\n",
    "\n",
    "1 * 1 * 2 * 1 ) (4,5,5,2)"
   ]
  }
 ],
 "metadata": {
  "kernelspec": {
   "display_name": "Python 3",
   "language": "python",
   "name": "python3"
  },
  "language_info": {
   "codemirror_mode": {
    "name": "ipython",
    "version": 3
   },
   "file_extension": ".py",
   "mimetype": "text/x-python",
   "name": "python",
   "nbconvert_exporter": "python",
   "pygments_lexer": "ipython3",
   "version": "3.10.11"
  }
 },
 "nbformat": 4,
 "nbformat_minor": 2
}
