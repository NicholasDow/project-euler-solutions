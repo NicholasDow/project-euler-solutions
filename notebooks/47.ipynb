{
 "cells": [
  {
   "cell_type": "code",
   "execution_count": 8,
   "metadata": {},
   "outputs": [],
   "source": [
    "def sieve(n):\n",
    "    primes = [True] *n\n",
    "    for i in range(2,int(n**(.5))+1):\n",
    "        if primes[i]:\n",
    "            primes[i*i::i] = [False] * len(range(i*i, len(primes),i))\n",
    "    \n",
    "    return [i for i in range(2,n) if primes[i]]"
   ]
  },
  {
   "cell_type": "code",
   "execution_count": 55,
   "metadata": {},
   "outputs": [],
   "source": [
    "lim = 10**6\n",
    "primes = sieve(lim)\n",
    "primesSet = set(primes)"
   ]
  },
  {
   "cell_type": "code",
   "execution_count": 56,
   "metadata": {},
   "outputs": [
    {
     "data": {
      "text/plain": [
       "{2, 7, 23}"
      ]
     },
     "execution_count": 56,
     "metadata": {},
     "output_type": "execute_result"
    }
   ],
   "source": [
    "def gcd(n):\n",
    "    factorSet = set()\n",
    "    i = 0\n",
    "    while n not in primesSet:\n",
    "        if n % primes[i] == 0:\n",
    "            n = int(n / primes[i])\n",
    "            factorSet.add(primes[i])\n",
    "        else:\n",
    "            i+=1\n",
    "    if n in primesSet:\n",
    "        factorSet.add(n)\n",
    "    return factorSet\n",
    "\n",
    "gcd(644)\n"
   ]
  },
  {
   "cell_type": "code",
   "execution_count": 57,
   "metadata": {},
   "outputs": [
    {
     "name": "stdout",
     "output_type": "stream",
     "text": [
      "answer [134043, 134044, 134045, 134046]\n",
      "factors {2, 3, 5, 677, 7, 491, 11, 13, 47, 17, 83, 19, 23, 31}\n",
      "answer [238203, 238204, 238205, 238206]\n",
      "factors {2, 3, 5, 37, 199, 7, 71, 11, 17, 113, 19, 29, 61, 31}\n",
      "answer [253894, 253895, 253896, 253897]\n",
      "factors {2, 3, 37, 5, 103, 71, 73, 7, 47, 17, 83, 19, 149, 23, 29}\n",
      "answer [259368, 259369, 259370, 259371]\n",
      "factors {2, 3, 101, 37, 5, 7, 73, 107, 11, 17, 19, 179, 23, 701}\n",
      "answer [315720, 315721, 315722, 315723]\n",
      "factors {191, 2, 3, 5, 37, 7, 11, 877, 113, 19, 53, 23, 29, 127}\n",
      "answer [319143, 319144, 319145, 319146]\n",
      "factors {2, 3, 5, 7, 71, 41, 11, 139, 43, 29, 19, 1237, 509, 31}\n",
      "answer [342054, 342055, 342056, 342057]\n",
      "factors {353, 2, 3, 613, 5, 7, 11, 13, 337, 17, 19, 23, 29, 31}\n",
      "answer [351042, 351043, 351044, 351045]\n",
      "factors {97, 2, 3, 5, 7, 41, 11, 269, 47, 1427, 19, 149, 29, 31}\n",
      "answer [352884, 352885, 352886, 352887]\n",
      "factors {97, 2, 3, 5, 7, 4201, 41, 107, 13, 17, 19, 151, 89, 61}\n",
      "answer [354234, 354235, 354236, 354237]\n",
      "factors {2, 3, 5, 293, 7, 43, 13, 79, 29, 19, 59, 349, 1373, 31}\n",
      "answer [355508, 355509, 355510, 355511]\n",
      "factors {2, 3, 5, 7, 487, 73, 41, 11, 13, 47, 29, 19, 23, 61, 31}\n",
      "answer [357642, 357643, 357644, 357645]\n",
      "factors {2, 3, 37, 5, 7, 41, 11, 13, 241, 113, 179, 211, 53, 61}\n",
      "answer [380274, 380275, 380276, 380277]\n",
      "factors {2, 3, 5, 7, 103, 41, 71, 13, 1039, 47, 29, 53, 61, 31}\n",
      "answer [389388, 389389, 389390, 389391]\n",
      "factors {2, 3, 37, 389, 7, 5, 11, 877, 13, 79, 53, 23, 1693, 31}\n",
      "answer [401554, 401555, 401556, 401557]\n",
      "factors {2, 3, 5, 7, 41, 11, 109, 13, 79, 17, 83, 307, 149, 23, 59}\n",
      "answer [409353, 409354, 409355, 409356]\n",
      "factors {193, 2, 3, 101, 5, 7, 809, 137, 11, 139, 19, 83, 23, 31}\n",
      "answer [417195, 417196, 417197, 417198]\n",
      "factors {97, 2, 3, 2243, 5, 71, 73, 11, 13, 113, 17, 23, 31, 127}\n",
      "answer [422094, 422095, 422096, 422097]\n",
      "factors {2, 3, 5, 37, 103, 71, 41, 137, 683, 13, 79, 23, 29, 31}\n",
      "answer [438954, 438955, 438956, 438957]\n",
      "factors {257, 2, 3, 5, 7, 491, 11, 17, 19, 149, 23, 151, 347, 61}\n",
      "answer [446367, 446368, 446369, 446370]\n",
      "factors {2, 3, 37, 5, 7, 41, 11, 14879, 13, 17, 19, 31, 29, 191}\n",
      "answer [452352, 452353, 452354, 452355]\n",
      "factors {2, 3, 5, 7, 41, 11, 79, 569, 17, 19, 53, 409, 59, 31}\n",
      "answer [462054, 462055, 462056, 462057]\n",
      "factors {2, 3, 223, 5, 37, 7, 11, 1453, 271, 47, 113, 53, 29, 31}\n",
      "answer [468753, 468754, 468755, 468756]\n",
      "factors {449, 2, 3, 227, 37, 5, 103, 7, 41, 11, 13, 149, 59, 29}\n"
     ]
    },
    {
     "ename": "KeyboardInterrupt",
     "evalue": "",
     "output_type": "error",
     "traceback": [
      "\u001b[1;31m---------------------------------------------------------------------------\u001b[0m",
      "\u001b[1;31mKeyboardInterrupt\u001b[0m                         Traceback (most recent call last)",
      "Cell \u001b[1;32mIn[57], line 12\u001b[0m\n\u001b[0;32m      9\u001b[0m \u001b[38;5;66;03m# print(i)\u001b[39;00m\n\u001b[0;32m     10\u001b[0m \u001b[38;5;66;03m# print(i in primes)\u001b[39;00m\n\u001b[0;32m     11\u001b[0m factors \u001b[38;5;241m=\u001b[39m gcd(i)\n\u001b[1;32m---> 12\u001b[0m \u001b[38;5;28;01mif\u001b[39;00m i \u001b[38;5;129;01min\u001b[39;00m primes \u001b[38;5;129;01mor\u001b[39;00m \u001b[38;5;28;43mlen\u001b[39;49m\u001b[43m(\u001b[49m\u001b[43mfactors\u001b[49m\u001b[43m)\u001b[49m\u001b[43m \u001b[49m\u001b[38;5;241;43m!=\u001b[39;49m\u001b[43m \u001b[49m\u001b[43ml\u001b[49m:\n\u001b[0;32m     13\u001b[0m     setOfTakenPrimes \u001b[38;5;241m=\u001b[39m \u001b[38;5;28mset\u001b[39m()\n\u001b[0;32m     14\u001b[0m     setOfNumbers \u001b[38;5;241m=\u001b[39m []\n",
      "\u001b[1;31mKeyboardInterrupt\u001b[0m: "
     ]
    }
   ],
   "source": [
    "setOfTakenPrimes = set()\n",
    "setOfNumbers = []\n",
    "l = 4\n",
    "for i in range(2, lim):\n",
    "    if len(setOfNumbers) ==l:\n",
    "        print('answer',setOfNumbers)\n",
    "        print('factors',setOfTakenPrimes)\n",
    "        break\n",
    "    \n",
    "    # print(i)\n",
    "    # print(i in primes)\n",
    "    factors = gcd(i)\n",
    "    if i in primes or len(factors) != l:\n",
    "        setOfTakenPrimes = set()\n",
    "        setOfNumbers = []\n",
    "    else:\n",
    "        setOfTakenPrimes = setOfTakenPrimes.union(factors)\n",
    "        setOfNumbers.append(i)\n",
    "    \n"
   ]
  },
  {
   "cell_type": "code",
   "execution_count": null,
   "metadata": {},
   "outputs": [],
   "source": []
  },
  {
   "cell_type": "code",
   "execution_count": null,
   "metadata": {},
   "outputs": [],
   "source": []
  }
 ],
 "metadata": {
  "kernelspec": {
   "display_name": "Python 3",
   "language": "python",
   "name": "python3"
  },
  "language_info": {
   "codemirror_mode": {
    "name": "ipython",
    "version": 3
   },
   "file_extension": ".py",
   "mimetype": "text/x-python",
   "name": "python",
   "nbconvert_exporter": "python",
   "pygments_lexer": "ipython3",
   "version": "3.10.11"
  }
 },
 "nbformat": 4,
 "nbformat_minor": 2
}
