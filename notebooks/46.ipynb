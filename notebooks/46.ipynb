{
 "cells": [
  {
   "cell_type": "code",
   "execution_count": 13,
   "metadata": {},
   "outputs": [],
   "source": [
    "def sieve(n):\n",
    "    primes = [True]*n\n",
    "\n",
    "    for i in range(2,int(n**(.5))+1):\n",
    "        if primes[i]:\n",
    "            primes[i*i::i] = [False] * len(range(i*i,n,i))\n",
    "    \n",
    "    return [i for i in range(n) if not primes[i] and i % 2 != 0], [i for i in range(n) if primes[i]]\n",
    "        "
   ]
  },
  {
   "cell_type": "code",
   "execution_count": 26,
   "metadata": {},
   "outputs": [],
   "source": [
    "notPrimes, primes = sieve(100000)"
   ]
  },
  {
   "cell_type": "code",
   "execution_count": 28,
   "metadata": {},
   "outputs": [
    {
     "name": "stdout",
     "output_type": "stream",
     "text": [
      "{5777, 5993}\n"
     ]
    }
   ],
   "source": [
    "nprimes = set(notPrimes)\n",
    "# nprimes.add(1)\n",
    "# nprimes.remove(1)\n",
    "counted = [True] * len(nprimes)\n",
    "for i in range(1,len(primes)):\n",
    "    for j in range(1,1000):\n",
    "        val =primes[i] + 2*j**2\n",
    "        if val in nprimes:\n",
    "            nprimes.remove(val)\n",
    "print(nprimes)"
   ]
  },
  {
   "cell_type": "code",
   "execution_count": null,
   "metadata": {},
   "outputs": [],
   "source": []
  }
 ],
 "metadata": {
  "kernelspec": {
   "display_name": "Python 3",
   "language": "python",
   "name": "python3"
  },
  "language_info": {
   "codemirror_mode": {
    "name": "ipython",
    "version": 3
   },
   "file_extension": ".py",
   "mimetype": "text/x-python",
   "name": "python",
   "nbconvert_exporter": "python",
   "pygments_lexer": "ipython3",
   "version": "3.10.11"
  }
 },
 "nbformat": 4,
 "nbformat_minor": 2
}
