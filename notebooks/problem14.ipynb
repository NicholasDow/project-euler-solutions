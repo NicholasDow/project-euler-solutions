{
 "cells": [
  {
   "cell_type": "code",
   "execution_count": null,
   "metadata": {},
   "outputs": [],
   "source": [
    "import math"
   ]
  },
  {
   "cell_type": "code",
   "execution_count": 3,
   "metadata": {},
   "outputs": [
    {
     "ename": "",
     "evalue": "",
     "output_type": "error",
     "traceback": [
      "\u001b[1;31mThe Kernel crashed while executing code in the current cell or a previous cell. \n",
      "\u001b[1;31mPlease review the code in the cell(s) to identify a possible cause of the failure. \n",
      "\u001b[1;31mClick <a href='https://aka.ms/vscodeJupyterKernelCrash'>here</a> for more info. \n",
      "\u001b[1;31mView Jupyter <a href='command:jupyter.viewOutput'>log</a> for further details."
     ]
    }
   ],
   "source": [
    "seen = {1:1}\n",
    "best = 0\n",
    "def collatz(n):\n",
    "    if n in seen:\n",
    "        return seen[n]\n",
    "    else:\n",
    "        if n%2 == 0:\n",
    "            seen[n] = 1+collatz(n/2)\n",
    "        else:\n",
    "            seen[n] = 1 + collatz(3*n+1)\n",
    "        return seen[n]\n",
    "for i in range(1_000_000):\n",
    "    best = max(collatz(i),best)"
   ]
  },
  {
   "cell_type": "code",
   "execution_count": 1,
   "metadata": {},
   "outputs": [],
   "source": [
    "seen = {1:1}\n",
    "best = 0\n",
    "def collatz(n):\n",
    "    if n in seen:\n",
    "        return seen[n]\n",
    "    else:\n",
    "        if n%2 == 0:\n",
    "            seen[n] = 1+collatz(n/2)\n",
    "        else:\n",
    "            seen[n] = 1 + collatz(3*n+1)\n",
    "        return seen[n]\n",
    "for i in range(0,10000):\n",
    "    best = max(collatz(i), best)"
   ]
  },
  {
   "cell_type": "code",
   "execution_count": 11,
   "metadata": {},
   "outputs": [
    {
     "data": {
      "text/plain": [
       "837799"
      ]
     },
     "execution_count": 11,
     "metadata": {},
     "output_type": "execute_result"
    }
   ],
   "source": [
    "seen = {1: 1}\n",
    "best = 0\n",
    "\n",
    "def collatz(n):\n",
    "    if n in seen:\n",
    "        return seen[n]\n",
    "    if n % 2 == 0:\n",
    "        seen[n] = 1 + collatz(n // 2)\n",
    "    else:\n",
    "        seen[n] = 1 + collatz(3 * n + 1)\n",
    "    return seen[n]\n",
    "\n",
    "best_i = 0\n",
    "for i in range(1, 1000001):  # Start from 1, go up to 10000\n",
    "    # best = max(collatz(i), best)\n",
    "    if collatz(i) > best:\n",
    "        best = collatz(i)\n",
    "        best_i = i\n",
    "best_i"
   ]
  },
  {
   "cell_type": "code",
   "execution_count": 9,
   "metadata": {},
   "outputs": [
    {
     "data": {
      "text/plain": [
       "262"
      ]
     },
     "execution_count": 9,
     "metadata": {},
     "output_type": "execute_result"
    }
   ],
   "source": [
    "max(li)"
   ]
  },
  {
   "cell_type": "code",
   "execution_count": null,
   "metadata": {},
   "outputs": [],
   "source": [
    "li.in"
   ]
  }
 ],
 "metadata": {
  "kernelspec": {
   "display_name": "Python 3",
   "language": "python",
   "name": "python3"
  },
  "language_info": {
   "codemirror_mode": {
    "name": "ipython",
    "version": 3
   },
   "file_extension": ".py",
   "mimetype": "text/x-python",
   "name": "python",
   "nbconvert_exporter": "python",
   "pygments_lexer": "ipython3",
   "version": "3.10.11"
  }
 },
 "nbformat": 4,
 "nbformat_minor": 2
}
