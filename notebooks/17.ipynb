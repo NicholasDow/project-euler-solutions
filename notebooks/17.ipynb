{
 "cells": [
  {
   "cell_type": "code",
   "execution_count": 1,
   "metadata": {},
   "outputs": [],
   "source": [
    "num2word = {\n",
    "    1:\"one\",\n",
    "    2:\"two\",\n",
    "    3:\"three\",\n",
    "    4:'four',\n",
    "    5:'five',\n",
    "    6:'six',\n",
    "    7:'seven',\n",
    "    8:'eight',\n",
    "    9:'nine',\n",
    "    10:'ten', #breaks\n",
    "    11:'eleven', #breaks\n",
    "    12:'twelve', #\n",
    "    13:'thirteen', #\n",
    "    14:'fourteen',\n",
    "    15:'fifteen',\n",
    "    16:'sixteen',\n",
    "    # teen + 4\n",
    "    20:'twenty',\n",
    "    30:'thirty',\n",
    "    40:'fourty',\n",
    "    50:'fifty',\n",
    "    60:'sixty',\n",
    "    70:'seventy',\n",
    "    80:'eighty',\n",
    "}"
   ]
  },
  {
   "cell_type": "code",
   "execution_count": 2,
   "metadata": {},
   "outputs": [],
   "source": [
    "def number_to_english(n: int) -> str:\n",
    "    \"\"\" Translate an integer into words form\n",
    "\n",
    "    :param n: the integer to translate\n",
    "    :return: the English phrasing of :math:`n`\n",
    "\n",
    "    >>> number_to_english(127)\n",
    "    'one hundred and twenty-seven'\n",
    "    \"\"\"\n",
    "\n",
    "    ones = [\"zero\", \"one\", \"two\", \"three\", \"four\", \"five\", \"six\", \"seven\", \"eight\", \"nine\", \"ten\", \"eleven\", \"twelve\",\n",
    "            \"thirteen\", \"fourteen\", \"fifteen\", \"sixteen\", \"seventeen\", \"eighteen\", \"nineteen\"]\n",
    "    tens = [None, None, \"twenty\", \"thirty\", \"forty\", \"fifty\", \"sixty\", \"seventy\", \"eighty\", \"ninety\"]\n",
    "    if 0 <= n < 20:\n",
    "        return ones[n]\n",
    "    elif 20 <= n <= 90 and n % 10 == 0:\n",
    "        return tens[n // 10]\n",
    "    elif 20 < n < 100:\n",
    "        return tens[n // 10] + \"-\" + ones[n % 10]\n",
    "    elif 100 <= n <= 900 and n % 100 == 0:\n",
    "        return ones[n // 100] + \" hundred\"\n",
    "    elif 100 < n < 1000:\n",
    "        return ones[n // 100] + \" hundred and \" + number_to_english(n % 100)\n",
    "    elif 1000 < n < 10000:\n",
    "        pass\n",
    "    elif n == 1000:\n",
    "        return \"one thousand\"\n",
    "    else:\n",
    "        raise ValueError(\"unexpected input\")\n",
    "\n",
    "\n",
    "def solve():\n",
    "    \"\"\" Compute the answer to Project Euler's problem #17 \"\"\"\n",
    "    target = 1000\n",
    "    answer = 0\n",
    "    for i in range(target):\n",
    "        words = number_to_english(i + 1).replace(\" \", \"\").replace(\"-\", \"\")\n",
    "        answer += len(words)\n",
    "    return answer"
   ]
  },
  {
   "cell_type": "code",
   "execution_count": 3,
   "metadata": {},
   "outputs": [
    {
     "data": {
      "text/plain": [
       "21124"
      ]
     },
     "execution_count": 3,
     "metadata": {},
     "output_type": "execute_result"
    }
   ],
   "source": [
    "solve()"
   ]
  }
 ],
 "metadata": {
  "kernelspec": {
   "display_name": "Python 3",
   "language": "python",
   "name": "python3"
  },
  "language_info": {
   "codemirror_mode": {
    "name": "ipython",
    "version": 3
   },
   "file_extension": ".py",
   "mimetype": "text/x-python",
   "name": "python",
   "nbconvert_exporter": "python",
   "pygments_lexer": "ipython3",
   "version": "3.10.11"
  }
 },
 "nbformat": 4,
 "nbformat_minor": 2
}
